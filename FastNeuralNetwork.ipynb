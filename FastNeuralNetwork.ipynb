{
  "nbformat": 4,
  "nbformat_minor": 0,
  "metadata": {
    "colab": {
      "provenance": [],
      "authorship_tag": "ABX9TyPVfLX6AE1hO2lW/9hcEuD7",
      "include_colab_link": true
    },
    "kernelspec": {
      "name": "python3",
      "display_name": "Python 3"
    },
    "language_info": {
      "name": "python"
    }
  },
  "cells": [
    {
      "cell_type": "markdown",
      "metadata": {
        "id": "view-in-github",
        "colab_type": "text"
      },
      "source": [
        "<a href=\"https://colab.research.google.com/github/kartoone/Graphical-Micro-Architecture-Simulator/blob/main/FastNeuralNetwork.ipynb\" target=\"_parent\"><img src=\"https://colab.research.google.com/assets/colab-badge.svg\" alt=\"Open In Colab\"/></a>"
      ]
    },
    {
      "cell_type": "code",
      "execution_count": null,
      "metadata": {
        "id": "NQQ0yjJ6LUBN"
      },
      "outputs": [],
      "source": []
    },
    {
      "cell_type": "markdown",
      "source": [
        "The **Hello, world** of neural networks\n",
        "This code builds a simple neural network that can recognize handwritten 28x28 pixel digits.\n",
        "\n",
        "Our first version will have 15 neurons in the hidden layer and 10 output neurons.\n",
        "\n",
        "See image below:\n",
        "http://neuralnetworksanddeeplearning.com/images/tikz12.png\n",
        "\n",
        "How many weights in this network?\n",
        "11760 weights in the first layer (784 * 15) and 150 weights in the second layer (15 * 10) = 11910 weights total\n",
        "15 biases in the hidden layer and 10 biases in the output layer = 25 biases total.\n",
        "11910 + 25 = 11935 parameters!"
      ],
      "metadata": {
        "id": "X6OTVSJZLxzO"
      }
    }
  ]
}